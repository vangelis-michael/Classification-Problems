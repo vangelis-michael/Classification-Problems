{
 "cells": [
  {
   "cell_type": "markdown",
   "metadata": {
    "colab_type": "text",
    "id": "dGeNtb6fa-nH"
   },
   "source": [
    "Audio Classifier\n",
    "========================="
   ]
  },
  {
   "cell_type": "markdown",
   "metadata": {
    "colab_type": "text",
    "id": "VGaBjdiBa-nL"
   },
   "source": [
    "## Important information\n",
    "\n",
    "* Choose a group name/number and rename the file with it.\n",
    "* Be sure to enter the names of every member in the group in the cell below.\n",
    "* Use the power of number and work together as a team.\n",
    "* You can employ the use of the HPC (high perfomance computer) provided your server account has been established.\n",
    "* The tutor is always available to give more explanation and assistance whenever/wherever required, but make sure you have made effort yourself.\n",
    "* Please remove all test codes.\n",
    "* The solutions to the tasks should be turn in on Friday 13th Dec, end of the day (12am). \n",
    "* A notebook submission is required per group, no multiple submissions from same group. Submit by attaching only the .ipynb file please, not zip and I don't need other files (e.g the data) I already have them."
   ]
  },
  {
   "cell_type": "markdown",
   "metadata": {
    "colab_type": "text",
    "id": "2ccSQ7-ga-nN"
   },
   "source": [
    "Group \n",
    "\n",
    "    Mohammed Amidu\n",
    "    Dilys Dickson\n",
    "    Joseph Marie\n",
    "    Vangelis Oden"
   ]
  },
  {
   "cell_type": "markdown",
   "metadata": {
    "colab_type": "text",
    "id": "tccnBmuta-nP"
   },
   "source": [
    "This task is inspired by the Audio Classifier Tutorial (found [here](https://pytorch.org/tutorials/beginner/audio_classifier_tutorial.html?highlight=audio))\n",
    "**Author**: `Winston Herring <https://github.com/winston6>`_\n",
    "\n",
    "This tutorial will show you how to correctly format an audio dataset and\n",
    "then train/test an audio classifier network on the dataset. First, let’s\n",
    "import the common torch packages as well as ``torch``, ``torchaudio``, ``pandas``,\n",
    "and ``numpy``. ``torchaudio`` is available `here <https://github.com/pytorch/audio>`_\n",
    "and can be installed by following the\n",
    "instructions on the website but I encountered a lot of trouble installing it, this ` conda install -c pytorch torchaudio-cpu ` rather worked for me."
   ]
  },
  {
   "cell_type": "markdown",
   "metadata": {
    "colab_type": "text",
    "id": "GqY4gXt6a-nR"
   },
   "source": [
    "If you have a CUDA GPU use that. Running\n",
    "the network on a GPU will greatly decrease the training/testing runtime.\n",
    "\n",
    "\n"
   ]
  },
  {
   "cell_type": "markdown",
   "metadata": {
    "colab_type": "text",
    "id": "NFN_en3na-nT"
   },
   "source": [
    "1: Importing the Dataset\n",
    "---------------------\n",
    "\n",
    "We will use the UrbanSound8K dataset to train our network. It is\n",
    "available for free `here <https://urbansounddataset.weebly.com/>`_ and contains\n",
    "10 audio classes with over 8000 audio samples! Once you have downloaded\n",
    "the compressed dataset, extract it to your current working directory.\n",
    "First, we will look at the csv file that provides information about the\n",
    "individual sound files. ``pandas`` allows us to open the csv file and\n",
    "use ``.iloc()`` to access the data within it.\n",
    "\n",
    "\n"
   ]
  },
  {
   "cell_type": "markdown",
   "metadata": {
    "colab_type": "text",
    "id": "n7uGHGqya-nV"
   },
   "source": [
    "The 10 audio classes in the UrbanSound8K dataset are air_conditioner,\n",
    "car_horn, children_playing, dog_bark, drilling, enginge_idling,\n",
    "gun_shot, jackhammer, siren, and street_music. Let’s play a couple files\n",
    "and see what they sound like. The first file is street music and the\n",
    "second is an air conditioner.\n",
    "\n",
    "\n"
   ]
  },
  {
   "cell_type": "markdown",
   "metadata": {
    "colab_type": "text",
    "id": "VFA_-Gbaa-nW"
   },
   "source": [
    "2: Formatting the Data\n",
    "-------------------\n",
    "\n",
    "Now that we know the format of the csv file entries, we can construct\n",
    "our dataset. We will create a rapper class for our dataset using\n",
    "``torch.utils.data.Dataset`` that will handle loading the files and\n",
    "performing some formatting steps. The UrbanSound8K dataset is separated\n",
    "into 10 folders. We will use the data from 9 of these folders to train\n",
    "our network and then use the 10th folder to test the network. The rapper\n",
    "class will store the file names, labels, and folder numbers of the audio\n",
    "files in the inputted folder list when initialized. The actual loading\n",
    "and formatting steps will happen in the access function ``__getitem__``.\n",
    "\n",
    "In ``__getitem__``, we use ``torchaudio.load()`` to convert the wav\n",
    "files to tensors. ``torchaudio.load()`` returns a tuple containing the\n",
    "newly created tensor along with the sampling frequency of the audio file\n",
    "(44.1kHz for UrbanSound8K). The dataset uses two channels for audio so\n",
    "we will use ``torchaudio.transforms.DownmixMono()`` (not available in the latest version of `torchaudio`) to convert the audio\n",
    "data to one channel. Next, we need to format the audio data. The network\n",
    "we will make takes an input size of 32,000, while most of the audio\n",
    "files have well over 100,000 samples. The UrbanSound8K audio is sampled\n",
    "at 44.1kHz, so 32,000 samples only covers around 700 milliseconds. By\n",
    "downsampling the audio to aproximately 8kHz, we can represent 4 seconds\n",
    "with the 32,000 samples. This downsampling is achieved by taking every\n",
    "fifth sample of the original audio tensor. Not every audio tensor is\n",
    "long enough to handle the downsampling so these tensors will need to be\n",
    "padded with zeros. The minimum length that won’t require padding is\n",
    "160,000 samples.\n",
    "\n",
    "\n"
   ]
  },
  {
   "cell_type": "markdown",
   "metadata": {
    "colab_type": "text",
    "id": "pF6SineKa-nX"
   },
   "source": [
    "3: Define the Network\n",
    "------------------\n",
    "\n",
    "For this task we want to closely reproduce the achitectures described in https://arxiv.org/pdf/1610.00087.pdf. You task is to read extensively the paper and reproduce the achitectures <font color='green'> M3, M5, M11 and M18. The M34-res is a bonus.</font>\n",
    "While attempting to reproduce the architectures endeavour to read through the common [pitfalls](https://urbansounddataset.weebly.com/urbansound8k.html#10foldCV) to get it right."
   ]
  },
  {
   "cell_type": "markdown",
   "metadata": {
    "colab_type": "text",
    "id": "Nlzm7r6da-nY"
   },
   "source": [
    "We will use the same optimization technique used in the paper, an Adam\n",
    "optimizer with weight decay set to 0.0001. At first, we will train with\n",
    "a learning rate of 0.01, but we will use a ``scheduler`` to decrease it\n",
    "to 0.001 during training.\n",
    "\n",
    "\n"
   ]
  },
  {
   "cell_type": "markdown",
   "metadata": {
    "colab_type": "text",
    "id": "ZoD7mez2a-nZ"
   },
   "source": [
    "4: Training and Testing the Network\n",
    "--------------------------------\n",
    "\n",
    "You can define a training function that will feed our training data into the model and perform the backward pass and optimization steps. You can also make one for testing the networks accuracy and set the model to ``eval()`` mode and then run inference on the test dataset. Calling ``eval()`` sets the training variable in all modules in the network to false. Certain layers like batch normalization and dropout layers behave differently during training so this step is crucial for getting correct results.\n",
    "\n",
    "\n"
   ]
  },
  {
   "cell_type": "markdown",
   "metadata": {
    "colab_type": "text",
    "id": "CyPiVVe6a-na"
   },
   "source": [
    "Finally, we can train and test the network. Train the network for as many epochs as time allows you. The network will be tested after each epoch to see how the accuracy varies during the training."
   ]
  },
  {
   "cell_type": "markdown",
   "metadata": {
    "colab_type": "text",
    "id": "X1zlZ6vLa-nb"
   },
   "source": [
    "Conclusion\n",
    "----------\n",
    "\n",
    "If trained on 9 folders, the network should be about 40% accurate by the end of the training process for the least possible epochs. Training on less folders will result in a lower overall accuracy. Greater accuracies can be achieved using deeper CNNs at the expense of a larger memory footprint.\n",
    "\n",
    "For more advanced audio applications, such as speech recognition,\n",
    "recurrent neural networks (RNNs) are commonly used. There are also other\n",
    "data preprocessing methods, such as finding the mel frequency cepstral\n",
    "coefficients (MFCC), that can reduce the size of the dataset.\n",
    "\n",
    "\n"
   ]
  },
  {
   "cell_type": "code",
   "execution_count": 0,
   "metadata": {
    "colab": {},
    "colab_type": "code",
    "id": "n7b1VWyva-nf"
   },
   "outputs": [],
   "source": [
    "import os\n",
    "import glob\n",
    "import numpy as np\n",
    "import pandas as pd\n",
    "import torch\n",
    "import torch.nn.functional as F\n",
    "from torch.utils.data import Dataset, DataLoader\n",
    "import torchaudio"
   ]
  },
  {
   "cell_type": "code",
   "execution_count": 0,
   "metadata": {
    "colab": {},
    "colab_type": "code",
    "id": "-_9VSXyqa-nn"
   },
   "outputs": [],
   "source": [
    "#rapper for the UrbanSound8K dataset"
   ]
  },
  {
   "cell_type": "code",
   "execution_count": 1,
   "metadata": {
    "colab": {
     "base_uri": "https://localhost:8080/",
     "height": 207
    },
    "colab_type": "code",
    "id": "yb3ZAR8RoD4T",
    "outputId": "5af486be-e6ba-4567-a7d1-4404c59a3ae4"
   },
   "outputs": [
    {
     "name": "stdout",
     "output_type": "stream",
     "text": [
      "--2019-12-13 11:14:30--  https://zenodo.org/record/1203745/files/UrbanSound8K.tar.gz\n",
      "Resolving zenodo.org (zenodo.org)... 188.184.95.95\n",
      "Connecting to zenodo.org (zenodo.org)|188.184.95.95|:443... connected.\n",
      "HTTP request sent, awaiting response... 200 OK\n",
      "Length: 6023741708 (5.6G) [application/octet-stream]\n",
      "Saving to: ‘UrbanSound8K.tar.gz’\n",
      "\n",
      "UrbanSound8K.tar.gz 100%[===================>]   5.61G  47.0MB/s    in 1m 52s  \n",
      "\n",
      "2019-12-13 11:16:23 (51.4 MB/s) - ‘UrbanSound8K.tar.gz’ saved [6023741708/6023741708]\n",
      "\n"
     ]
    }
   ],
   "source": [
    "!wget https://zenodo.org/record/1203745/files/UrbanSound8K.tar.gz\n",
    "!tar -xf UrbanSound8K.tar.gz"
   ]
  },
  {
   "cell_type": "code",
   "execution_count": 2,
   "metadata": {
    "colab": {
     "base_uri": "https://localhost:8080/"
    },
    "colab_type": "code",
    "id": "WHlbMCiEsgiR",
    "outputId": "dbc2f885-bdf3-4f4a-ed61-da7ac0d4f947",
    "scrolled": true
   },
   "outputs": [
    {
     "name": "stdout",
     "output_type": "stream",
     "text": [
      "Requirement already satisfied: librosa in /usr/local/lib/python3.6/dist-packages (0.6.3)\n",
      "Requirement already satisfied: numpy>=1.8.0 in /usr/local/lib/python3.6/dist-packages (from librosa) (1.17.4)\n",
      "Requirement already satisfied: audioread>=2.0.0 in /usr/local/lib/python3.6/dist-packages (from librosa) (2.1.8)\n",
      "Requirement already satisfied: joblib>=0.12 in /usr/local/lib/python3.6/dist-packages (from librosa) (0.14.0)\n",
      "Requirement already satisfied: decorator>=3.0.0 in /usr/local/lib/python3.6/dist-packages (from librosa) (4.4.1)\n",
      "Requirement already satisfied: six>=1.3 in /usr/local/lib/python3.6/dist-packages (from librosa) (1.12.0)\n",
      "Requirement already satisfied: numba>=0.38.0 in /usr/local/lib/python3.6/dist-packages (from librosa) (0.40.1)\n",
      "Requirement already satisfied: resampy>=0.2.0 in /usr/local/lib/python3.6/dist-packages (from librosa) (0.2.2)\n",
      "Requirement already satisfied: scipy>=1.0.0 in /usr/local/lib/python3.6/dist-packages (from librosa) (1.3.3)\n",
      "Requirement already satisfied: scikit-learn!=0.19.0,>=0.14.0 in /usr/local/lib/python3.6/dist-packages (from librosa) (0.21.3)\n",
      "Requirement already satisfied: llvmlite>=0.25.0dev0 in /usr/local/lib/python3.6/dist-packages (from numba>=0.38.0->librosa) (0.30.0)\n"
     ]
    }
   ],
   "source": [
    "!pip install librosa"
   ]
  },
  {
   "cell_type": "code",
   "execution_count": 1,
   "metadata": {
    "colab": {
     "base_uri": "https://localhost:8080/",
     "height": 81
    },
    "colab_type": "code",
    "id": "sFrDvDCwa-n6",
    "outputId": "3cde094b-3245-4ed3-c721-64175d8e3e29"
   },
   "outputs": [
    {
     "name": "stderr",
     "output_type": "stream",
     "text": [
      "Using TensorFlow backend.\n"
     ]
    }
   ],
   "source": [
    "# Import Useful Modules\n",
    "import keras.backend as K\n",
    "from keras import regularizers\n",
    "from keras import layers\n",
    "from keras.layers.normalization import BatchNormalization\n",
    "from keras.layers import Activation, BatchNormalization, Conv1D, Dense, GlobalAveragePooling1D, Input, MaxPooling1D, Lambda\n",
    "from keras.models import Sequential\n",
    "from keras.models import Model\n",
    "from keras.callbacks import Callback\n",
    "from keras.callbacks import ReduceLROnPlateau\n",
    "from keras.utils.np_utils import to_categorical\n",
    "import os\n",
    "import pickle\n",
    "from glob import glob\n",
    "from random import choice\n",
    "from time import time\n",
    "from glob import iglob\n",
    "from shutil import rmtree\n",
    "import librosa\n",
    "import numpy as np\n",
    "import sys\n",
    "from glob import glob\n",
    "from sklearn.model_selection import KFold "
   ]
  },
  {
   "cell_type": "code",
   "execution_count": 2,
   "metadata": {
    "colab": {},
    "colab_type": "code",
    "id": "R9D4d4lea-oA"
   },
   "outputs": [],
   "source": [
    "# Set Audio Paths\n",
    "audio_path = '/home/michael/Documents/Programming#/Assignments#/UrbanSound8K/audio'\n",
    "TARGET_SR = 8000\n",
    "output_path = '/home/michael/Documents/Programming#/Assignments#/UrbanSound8K/Waveforms#'\n",
    "output_path_train = os.path.join(output_path, 'train')\n",
    "output_path_test = os.path.join(output_path, 'test')\n",
    "\n",
    "audio_size = 32000\n",
    "\n",
    "# Print trainable parameters from models\n",
    "def print_total_trainable_parameters_count():\n",
    "    import tensorflow as tf\n",
    "    total_parameters = 0\n",
    "    for variable in tf.trainable_variables():\n",
    "        # shape is an array of tf.Dimension\n",
    "        shape = variable.get_shape()\n",
    "        print(shape)\n",
    "        # print(len(shape))\n",
    "        variable_parameters = 1\n",
    "        for dim in shape:\n",
    "            # print(dim)\n",
    "            variable_parameters *= dim.value\n",
    "        # print(variable_parameters)\n",
    "        total_parameters += variable_parameters\n",
    "    print(total_parameters)\n",
    "\n",
    "def print_delimiter():\n",
    "    print('-' * 80)\n",
    "\n",
    "def mkdir_p(path):\n",
    "    import errno\n",
    "    try:\n",
    "        os.makedirs(path)\n",
    "    except OSError as exc:\n",
    "        if exc.errno == errno.EEXIST and os.path.isdir(path):\n",
    "            pass\n",
    "        else:\n",
    "            raise\n",
    "\n",
    "def del_folder(path):\n",
    "    try:\n",
    "        rmtree(path)\n",
    "    except:\n",
    "        pass\n",
    "\n",
    "# Extract classes from the dataset\n",
    "def extract_class_id(wav_filename):\n",
    "    \"\"\"\n",
    "    The name of the audio file. The name takes the following format: [fsID]-[classID]-[occurrenceID]-[sliceID].wav, where:\n",
    "    [fsID] = the Freesound ID of the recording from which this excerpt (slice) is taken\n",
    "    [classID] = a numeric identifier of the sound class (see description of classID below for further details)\n",
    "    [occurrenceID] = a numeric identifier to distinguish different occurrences of the sound within the original recording\n",
    "    [sliceID] = a numeric identifier to distinguish different slices taken from the same occurrence\n",
    "    \"\"\"\n",
    "    return wav_filename.split('-')[1]\n",
    "\n",
    "# Convert the dataset from the folders.\n",
    "def convert_data():\n",
    "    for i, wav_filename in enumerate(iglob(os.path.join(audio_path, '**/**.wav'), recursive=True)):\n",
    "        class_id = extract_class_id(wav_filename)\n",
    "        audio_buf = read_audio_from_filename(wav_filename, target_sr=TARGET_SR)\n",
    "        # normalize mean 0, variance 1\n",
    "        audio_buf = (audio_buf - np.mean(audio_buf)) / np.std(audio_buf)\n",
    "        original_length = len(audio_buf)\n",
    "        print(i, wav_filename, original_length, np.round(np.mean(audio_buf), 4), np.std(audio_buf))\n",
    "        if original_length < audio_size:\n",
    "            audio_buf = np.concatenate((audio_buf, np.zeros(shape=(audio_size - original_length, 1))))\n",
    "            print('PAD New length =', len(audio_buf))\n",
    "        elif original_length > audio_size:\n",
    "            audio_buf = audio_buf[0:audio_size]\n",
    "            print('CUT New length =', len(audio_buf))\n",
    "\n",
    "        output_folder = output_path_train\n",
    "        if 'fold10' in wav_filename:\n",
    "            output_folder = output_path_test\n",
    "        output_filename = os.path.join(output_folder, str(i) + '.pkl')\n",
    "\n",
    "        out = {'class_id': class_id,\n",
    "               'audio': audio_buf,\n",
    "               'sr': TARGET_SR}\n",
    "        with open(output_filename, 'wb') as w:\n",
    "            pickle.dump(out, w)\n",
    "\n",
    "def read_audio_from_filename(filename, target_sr):\n",
    "    audio, _ = librosa.load(filename, sr=target_sr, mono=True)\n",
    "    audio = audio.reshape(-1, 1)\n",
    "    return audio\n",
    "\n",
    "\n",
    "def next_batch_blank(batch_size):\n",
    "    return np.zeros(shape=(batch_size, audio_size, 1), dtype=np.float32), np.ones(shape=batch_size)\n",
    "\n",
    "def conv_pattern_extractor(pattern):\n",
    "    pattern = pattern.replace('x', '*')\n",
    "    num_blocks = 1\n",
    "    if '*' in pattern:\n",
    "        pattern, p2 = pattern.split('*')\n",
    "        num_blocks = int(p2)\n",
    "    pattern = pattern.strip()[1:-1]\n",
    "    p1, p2 = pattern.split(',')\n",
    "    nb_filters = int(p2)\n",
    "    if '/' in p1:\n",
    "        receptive_field, strides = [int(v) for v in p1.split('/')]\n",
    "    else:\n",
    "        receptive_field = int(p1)\n",
    "        strides = 1\n",
    "    print(nb_filters, receptive_field, strides, num_blocks)"
   ]
  },
  {
   "cell_type": "code",
   "execution_count": 3,
   "metadata": {
    "colab": {},
    "colab_type": "code",
    "id": "PGUFfqHJa-oE"
   },
   "outputs": [],
   "source": [
    "# Class for logging our outputs to local machine.\n",
    "class FileLogger(object):\n",
    "    def __init__(self, full_filename, headers):\n",
    "        self._headers = headers\n",
    "        self._out_fp = open(full_filename, 'w')\n",
    "        self._write(headers)\n",
    "\n",
    "    def write(self, line):\n",
    "        assert len(line) == len(self._headers)\n",
    "        self._write(line)\n",
    "\n",
    "    def close(self):\n",
    "        self._out_fp.close()\n",
    "\n",
    "    def _write(self, arr):\n",
    "        arr = [str(e) for e in arr]\n",
    "        self._out_fp.write(' '.join(arr) + '\\n')\n",
    "        self._out_fp.flush()\n",
    "\n",
    "# Create a datareader class to Read the data and move it to batches\n",
    "class DataReader:\n",
    "    def __init__(self):\n",
    "        self.train_files = glob(os.path.join(output_path_train, '**.pkl'))\n",
    "        print('training files =', len(self.train_files))\n",
    "        self.test_files = glob(os.path.join(output_path_test, '**.pkl'))\n",
    "        print('testing files =', len(self.test_files))\n",
    "\n",
    "    def next_batch_train(self, batch_size):\n",
    "        return DataReader._next_batch(batch_size, self.train_files)\n",
    "\n",
    "    def next_batch_test(self, batch_size):\n",
    "        return DataReader._next_batch(batch_size, self.test_files)\n",
    "\n",
    "    def train_files_count(self):\n",
    "        return len(self.train_files)\n",
    "\n",
    "    def test_files_count(self):\n",
    "        return len(self.test_files)\n",
    "\n",
    "    def get_all_training_data(self):\n",
    "        return DataReader._get_data(self.train_files)\n",
    "\n",
    "    def get_all_testing_data(self):\n",
    "        return DataReader._get_data(self.test_files)\n",
    "\n",
    "    @staticmethod\n",
    "    def _get_data(file_list, progress_bar=False):\n",
    "        def load_into(_filename, _x, _y):\n",
    "            with open(_filename, 'rb') as f:\n",
    "                audio_element = pickle.load(f)\n",
    "                _x.append(audio_element['audio'])\n",
    "                _y.append(int(audio_element['class_id']))\n",
    "\n",
    "        x, y = [], []\n",
    "        for filename in file_list:\n",
    "            load_into(filename, x, y)\n",
    "        return np.array(x), np.array(y)\n",
    "\n",
    "    @staticmethod\n",
    "    def _next_batch(batch_size, file_list):\n",
    "        return DataReader._get_data([choice(file_list) for _ in range(batch_size)])\n",
    "\n",
    "# Return all metrics\n",
    "class MetricsHistory(Callback):\n",
    "    def on_epoch_end(self, epoch, logs={}):\n",
    "        file_logger.write([str(epoch),\n",
    "                           str(logs['loss']),\n",
    "                           str(logs['val_loss']),\n",
    "                           str(logs['accuracy']),\n",
    "                           str(logs['val_accuracy'])])"
   ]
  },
  {
   "cell_type": "code",
   "execution_count": 0,
   "metadata": {
    "colab": {},
    "colab_type": "code",
    "id": "sWGMrDwSa-oT"
   },
   "outputs": [],
   "source": []
  },
  {
   "cell_type": "code",
   "execution_count": 4,
   "metadata": {
    "colab": {},
    "colab_type": "code",
    "id": "vNXM22KPa-os"
   },
   "outputs": [],
   "source": [
    "# Define M3 Network\n",
    "def m3(num_classes=10):\n",
    "    print('Using Model M3')\n",
    "    m = Sequential()\n",
    "    m.add(Conv1D(256,\n",
    "                 input_shape=[audio_size, 1],\n",
    "                 kernel_size=80,\n",
    "                 strides=4,\n",
    "                 padding='same',\n",
    "                 kernel_initializer='glorot_uniform',\n",
    "                 kernel_regularizer=regularizers.l2(l=0.0001)))\n",
    "    m.add(BatchNormalization())\n",
    "    m.add(Activation('relu'))\n",
    "    m.add(MaxPooling1D(pool_size=4, strides=None))\n",
    "    m.add(Conv1D(256,\n",
    "                 kernel_size=3,\n",
    "                 strides=1,\n",
    "                 padding='same',\n",
    "                 kernel_initializer='glorot_uniform',\n",
    "                 kernel_regularizer=regularizers.l2(l=0.0001)))\n",
    "    m.add(BatchNormalization())\n",
    "    m.add(Activation('relu'))\n",
    "\n",
    "    m.add(MaxPooling1D(pool_size=4, strides=None))\n",
    "    m.add(Lambda(lambda x: K.mean(x, axis=1))) # Same as Global Average Pooling for 1D Conv Layer\n",
    "    m.add(Dense(num_classes, activation='softmax')) # Dense Layers.\n",
    "    return m"
   ]
  },
  {
   "cell_type": "code",
   "execution_count": 5,
   "metadata": {
    "colab": {},
    "colab_type": "code",
    "id": "5AeVUUnCaCzb"
   },
   "outputs": [],
   "source": [
    "# Define M5 model \n",
    "def m5(num_classes=10):\n",
    "    print('Using Model M5')\n",
    "    m = Sequential()\n",
    "    m.add(Conv1D(128,\n",
    "                 input_shape=[audio_size, 1],\n",
    "                 kernel_size=80,\n",
    "                 strides=4,\n",
    "                 padding='same',\n",
    "                 kernel_initializer='glorot_uniform',\n",
    "                 kernel_regularizer=regularizers.l2(l=0.0001)))\n",
    "    m.add(BatchNormalization())\n",
    "    m.add(Activation('relu'))\n",
    "    m.add(MaxPooling1D(pool_size=4, strides=None))\n",
    "    m.add(Conv1D(128,\n",
    "                 kernel_size=3,\n",
    "                 strides=1,\n",
    "                 padding='same',\n",
    "                 kernel_initializer='glorot_uniform',\n",
    "                 kernel_regularizer=regularizers.l2(l=0.0001)))\n",
    "    m.add(BatchNormalization())\n",
    "    m.add(Activation('relu'))\n",
    "    m.add(MaxPooling1D(pool_size=4, strides=None))\n",
    "    m.add(Conv1D(256,\n",
    "                 kernel_size=3,\n",
    "                 strides=1,\n",
    "                 padding='same',\n",
    "                 kernel_initializer='glorot_uniform',\n",
    "                 kernel_regularizer=regularizers.l2(l=0.0001)))\n",
    "    m.add(BatchNormalization())\n",
    "    m.add(Activation('relu'))\n",
    "    m.add(MaxPooling1D(pool_size=4, strides=None))\n",
    "    m.add(Conv1D(512,\n",
    "                 kernel_size=3,\n",
    "                 strides=1,\n",
    "                 padding='same',\n",
    "                 kernel_initializer='glorot_uniform',\n",
    "                 kernel_regularizer=regularizers.l2(l=0.0001)))\n",
    "    m.add(BatchNormalization())\n",
    "    m.add(Activation('relu'))\n",
    "    m.add(MaxPooling1D(pool_size=4, strides=None))\n",
    "    m.add(Lambda(lambda x: K.mean(x, axis=1))) \n",
    "    m.add(Dense(num_classes, activation='softmax'))\n",
    "    return m"
   ]
  },
  {
   "cell_type": "code",
   "execution_count": 6,
   "metadata": {
    "colab": {},
    "colab_type": "code",
    "id": "KjVwQ4C6aGQZ"
   },
   "outputs": [],
   "source": [
    "# Define M11 network\n",
    "def m11(num_classes=10):\n",
    "    print('Using Model M11')\n",
    "    m = Sequential()\n",
    "    m.add(Conv1D(64,\n",
    "                 input_shape=[audio_size, 1],\n",
    "                 kernel_size=80,\n",
    "                 strides=4,\n",
    "                 padding='same',\n",
    "                 kernel_initializer='glorot_uniform',\n",
    "                 kernel_regularizer=regularizers.l2(l=0.0001)))\n",
    "    m.add(BatchNormalization())\n",
    "    m.add(Activation('relu'))\n",
    "    m.add(MaxPooling1D(pool_size=4, strides=None))\n",
    "\n",
    "    for i in range(2):\n",
    "        m.add(Conv1D(64,\n",
    "                     kernel_size=3,\n",
    "                     strides=1,\n",
    "                     padding='same',\n",
    "                     kernel_initializer='glorot_uniform',\n",
    "                     kernel_regularizer=regularizers.l2(l=0.0001)))\n",
    "        m.add(BatchNormalization())\n",
    "        m.add(Activation('relu'))\n",
    "    m.add(MaxPooling1D(pool_size=4, strides=None))\n",
    "\n",
    "    for i in range(2):\n",
    "        m.add(Conv1D(128,\n",
    "                     kernel_size=3,\n",
    "                     strides=1,\n",
    "                     padding='same',\n",
    "                     kernel_initializer='glorot_uniform',\n",
    "                     kernel_regularizer=regularizers.l2(l=0.0001)))\n",
    "        m.add(BatchNormalization())\n",
    "        m.add(Activation('relu'))\n",
    "    m.add(MaxPooling1D(pool_size=4, strides=None))\n",
    "\n",
    "    for i in range(3):\n",
    "        m.add(Conv1D(256,\n",
    "                     kernel_size=3,\n",
    "                     strides=1,\n",
    "                     padding='same',\n",
    "                     kernel_initializer='glorot_uniform',\n",
    "                     kernel_regularizer=regularizers.l2(l=0.0001)))\n",
    "        m.add(BatchNormalization())\n",
    "        m.add(Activation('relu'))\n",
    "    m.add(MaxPooling1D(pool_size=4, strides=None))\n",
    "\n",
    "    for i in range(2):\n",
    "        m.add(Conv1D(512,\n",
    "                     kernel_size=3,\n",
    "                     strides=1,\n",
    "                     padding='same',\n",
    "                     kernel_initializer='glorot_uniform',\n",
    "                     kernel_regularizer=regularizers.l2(l=0.0001)))\n",
    "        m.add(BatchNormalization())\n",
    "        m.add(Activation('relu'))\n",
    "\n",
    "    m.add(Lambda(lambda x: K.mean(x, axis=1)))\n",
    "    m.add(Dense(num_classes, activation='softmax'))\n",
    "    return m"
   ]
  },
  {
   "cell_type": "code",
   "execution_count": 7,
   "metadata": {
    "colab": {},
    "colab_type": "code",
    "id": "th6MMK9UaJAP"
   },
   "outputs": [],
   "source": [
    "# Define M18\n",
    "def m18(num_classes=10):\n",
    "    print('Using Model M18')\n",
    "    m = Sequential()\n",
    "    m.add(Conv1D(64,\n",
    "                 input_shape=[audio_size, 1],\n",
    "                 kernel_size=80,\n",
    "                 strides=4,\n",
    "                 padding='same',\n",
    "                 kernel_initializer='glorot_uniform',\n",
    "                 kernel_regularizer=regularizers.l2(l=0.0001)))\n",
    "    m.add(BatchNormalization())\n",
    "    m.add(Activation('relu'))\n",
    "    m.add(MaxPooling1D(pool_size=4, strides=None))\n",
    "\n",
    "    for i in range(4):\n",
    "        m.add(Conv1D(64,\n",
    "                     kernel_size=3,\n",
    "                     strides=1,\n",
    "                     padding='same',\n",
    "                     kernel_initializer='glorot_uniform',\n",
    "                     kernel_regularizer=regularizers.l2(l=0.0001)))\n",
    "        m.add(BatchNormalization())\n",
    "        m.add(Activation('relu'))\n",
    "    m.add(MaxPooling1D(pool_size=4, strides=None))\n",
    "\n",
    "    for i in range(4):\n",
    "        m.add(Conv1D(128,\n",
    "                     kernel_size=3,\n",
    "                     strides=1,\n",
    "                     padding='same',\n",
    "                     kernel_initializer='glorot_uniform',\n",
    "                     kernel_regularizer=regularizers.l2(l=0.0001)))\n",
    "        m.add(BatchNormalization())\n",
    "        m.add(Activation('relu'))\n",
    "    m.add(MaxPooling1D(pool_size=4, strides=None))\n",
    "\n",
    "    for i in range(4):\n",
    "        m.add(Conv1D(256,\n",
    "                     kernel_size=3,\n",
    "                     strides=1,\n",
    "                     padding='same',\n",
    "                     kernel_initializer='glorot_uniform',\n",
    "                     kernel_regularizer=regularizers.l2(l=0.0001)))\n",
    "        m.add(BatchNormalization())\n",
    "        m.add(Activation('relu'))\n",
    "    m.add(MaxPooling1D(pool_size=4, strides=None))\n",
    "\n",
    "    for i in range(4):\n",
    "        m.add(Conv1D(512,\n",
    "                     kernel_size=3,\n",
    "                     strides=1,\n",
    "                     padding='same',\n",
    "                     kernel_initializer='glorot_uniform',\n",
    "                     kernel_regularizer=regularizers.l2(l=0.0001)))\n",
    "        m.add(BatchNormalization())\n",
    "        m.add(Activation('relu'))\n",
    "\n",
    "    m.add(Lambda(lambda x: K.mean(x, axis=1))) \n",
    "    m.add(Dense(num_classes, activation='softmax'))\n",
    "    return m"
   ]
  },
  {
   "cell_type": "code",
   "execution_count": 8,
   "metadata": {
    "colab": {},
    "colab_type": "code",
    "id": "fcDoYmZFaMKf"
   },
   "outputs": [],
   "source": [
    "\n",
    "# For m34 Residual, use RepeatVector. Or tensorflow backend.repeat\n",
    "\n",
    "def identity_block(input_tensor, kernel_size, filters, stage, block):\n",
    "    conv_name_base = 'res' + str(stage) + str(block) + '_branch'\n",
    "    bn_name_base = 'bn' + str(stage) + str(block) + '_branch'\n",
    "\n",
    "    x = Conv1D(filters,\n",
    "               kernel_size=kernel_size,\n",
    "               strides=1,\n",
    "               padding='same',\n",
    "               kernel_initializer='glorot_uniform',\n",
    "               kernel_regularizer=regularizers.l2(l=0.0001),\n",
    "               name=conv_name_base + '2a')(input_tensor)\n",
    "    x = BatchNormalization(name=bn_name_base + '2a')(x)\n",
    "    x = Activation('relu')(x)\n",
    "\n",
    "    x = Conv1D(filters,\n",
    "               kernel_size=kernel_size,\n",
    "               strides=1,\n",
    "               padding='same',\n",
    "               kernel_initializer='glorot_uniform',\n",
    "               kernel_regularizer=regularizers.l2(l=0.0001),\n",
    "               name=conv_name_base + '2b')(x)\n",
    "    x = BatchNormalization(name=bn_name_base + '2b')(x)\n",
    "\n",
    "    # up-sample from the activation maps.\n",
    "    # here we x2 the number of filters.\n",
    "    # See that as duplicating everything and concatenate them.\n",
    "    if input_tensor.shape[2] != x.shape[2]:\n",
    "        x = layers.add([x, Lambda(lambda y: K.repeat_elements(y, rep=2, axis=2))(input_tensor)])\n",
    "    else:\n",
    "        x = layers.add([x, input_tensor])\n",
    "\n",
    "    x = BatchNormalization()(x)\n",
    "    x = Activation('relu')(x)\n",
    "    return x\n",
    "\n",
    "\n",
    "def resnet_34(num_classes=10):\n",
    "    inputs = Input(shape=[audio_size, 1])\n",
    "\n",
    "    x = Conv1D(48,\n",
    "               kernel_size=80,\n",
    "               strides=4,\n",
    "               padding='same',\n",
    "               kernel_initializer='glorot_uniform',\n",
    "               kernel_regularizer=regularizers.l2(l=0.0001))(inputs)\n",
    "    x = BatchNormalization()(x)\n",
    "    x = Activation('relu')(x)\n",
    "\n",
    "    x = MaxPooling1D(pool_size=4, strides=None)(x)\n",
    "\n",
    "    for i in range(3):\n",
    "        x = identity_block(x, kernel_size=3, filters=48, stage=1, block=i)\n",
    "\n",
    "    x = MaxPooling1D(pool_size=4, strides=None)(x)\n",
    "\n",
    "    for i in range(4):\n",
    "        x = identity_block(x, kernel_size=3, filters=96, stage=2, block=i)\n",
    "\n",
    "    x = MaxPooling1D(pool_size=4, strides=None)(x)\n",
    "\n",
    "    for i in range(6):\n",
    "        x = identity_block(x, kernel_size=3, filters=192, stage=3, block=i)\n",
    "\n",
    "    x = MaxPooling1D(pool_size=4, strides=None)(x)\n",
    "\n",
    "    for i in range(3):\n",
    "        x = identity_block(x, kernel_size=3, filters=384, stage=4, block=i)\n",
    "\n",
    "    x = GlobalAveragePooling1D()(x)\n",
    "    x = Dense(num_classes, activation='softmax')(x)\n",
    "\n",
    "    m = Model(inputs, x, name='resnet34')\n",
    "    return m"
   ]
  },
  {
   "cell_type": "code",
   "execution_count": 9,
   "metadata": {
    "colab": {},
    "colab_type": "code",
    "id": "Dtu0jUrIeJkk",
    "scrolled": true
   },
   "outputs": [
    {
     "name": "stdout",
     "output_type": "stream",
     "text": [
      "training files = 7895\n",
      "testing files = 837\n",
      "0.08637261390686035 sec\n"
     ]
    },
    {
     "data": {
      "text/plain": [
       "(array([[[-0.28862223],\n",
       "         [ 0.33379519],\n",
       "         [ 1.05820024],\n",
       "         ...,\n",
       "         [ 1.00229537],\n",
       "         [-0.34486553],\n",
       "         [-0.48807079]],\n",
       " \n",
       "        [[-0.85831708],\n",
       "         [-1.31762409],\n",
       "         [-0.20709692],\n",
       "         ...,\n",
       "         [-0.92532337],\n",
       "         [-0.78980714],\n",
       "         [-1.08291662]],\n",
       " \n",
       "        [[ 0.02341719],\n",
       "         [ 0.37758783],\n",
       "         [ 0.878241  ],\n",
       "         ...,\n",
       "         [-3.03388095],\n",
       "         [-3.08291292],\n",
       "         [-3.30102062]],\n",
       " \n",
       "        ...,\n",
       " \n",
       "        [[ 0.11735019],\n",
       "         [ 0.16110203],\n",
       "         [ 1.01452184],\n",
       "         ...,\n",
       "         [ 0.18869561],\n",
       "         [ 0.06019786],\n",
       "         [ 1.00366247]],\n",
       " \n",
       "        [[ 1.83861363],\n",
       "         [ 2.30447245],\n",
       "         [-0.09918652],\n",
       "         ...,\n",
       "         [-0.12858652],\n",
       "         [-0.08820677],\n",
       "         [ 0.03323535]],\n",
       " \n",
       "        [[ 0.65142566],\n",
       "         [ 0.48577085],\n",
       "         [-0.57317448],\n",
       "         ...,\n",
       "         [-0.10246004],\n",
       "         [-0.47736081],\n",
       "         [ 1.81131577]]]),\n",
       " array([2, 9, 5, 5, 5, 5, 6, 2, 5, 0, 3, 8, 5, 5, 3, 3, 5, 5, 9, 9, 4, 0,\n",
       "        4, 2, 7, 1, 2, 3, 4, 7, 3, 2]))"
      ]
     },
     "execution_count": 9,
     "metadata": {},
     "output_type": "execute_result"
    }
   ],
   "source": [
    "# del_folder(output_path_train)\n",
    "# del_folder(output_path_test)\n",
    "# mkdir_p(output_path_train)\n",
    "# mkdir_p(output_path_test)\n",
    "\n",
    "# conv_pattern_extractor('[80/4, 256] x 2')\n",
    "# conv_pattern_extractor('[80/4, 256]')\n",
    "# conv_pattern_extractor('[3, 512]')\n",
    "\n",
    "# Run convert_data to downsample and upsample the data\n",
    "# convert_data()\n",
    "data_reader = DataReader()\n",
    "a = time()\n",
    "data_reader.next_batch_train(128)\n",
    "print(time() - a, 'sec')\n",
    "data_reader.next_batch_test(32)"
   ]
  },
  {
   "cell_type": "code",
   "execution_count": null,
   "metadata": {
    "colab": {},
    "colab_type": "code",
    "id": "zdUTE1LCeOkR"
   },
   "outputs": [
    {
     "name": "stdout",
     "output_type": "stream",
     "text": [
      "Model selected: m3\n",
      "Using Model M3\n",
      "Model: \"sequential_1\"\n",
      "_________________________________________________________________\n",
      "Layer (type)                 Output Shape              Param #   \n",
      "=================================================================\n",
      "conv1d_1 (Conv1D)            (None, 8000, 256)         20736     \n",
      "_________________________________________________________________\n",
      "batch_normalization_1 (Batch (None, 8000, 256)         1024      \n",
      "_________________________________________________________________\n",
      "activation_1 (Activation)    (None, 8000, 256)         0         \n",
      "_________________________________________________________________\n",
      "max_pooling1d_1 (MaxPooling1 (None, 2000, 256)         0         \n",
      "_________________________________________________________________\n",
      "conv1d_2 (Conv1D)            (None, 2000, 256)         196864    \n",
      "_________________________________________________________________\n",
      "batch_normalization_2 (Batch (None, 2000, 256)         1024      \n",
      "_________________________________________________________________\n",
      "activation_2 (Activation)    (None, 2000, 256)         0         \n",
      "_________________________________________________________________\n",
      "max_pooling1d_2 (MaxPooling1 (None, 500, 256)          0         \n",
      "_________________________________________________________________\n",
      "lambda_1 (Lambda)            (None, 256)               0         \n",
      "_________________________________________________________________\n",
      "dense_1 (Dense)              (None, 10)                2570      \n",
      "=================================================================\n",
      "Total params: 222,218\n",
      "Trainable params: 221,194\n",
      "Non-trainable params: 1,024\n",
      "_________________________________________________________________\n",
      "None\n",
      "training files = 7895\n",
      "testing files = 837\n",
      "x_tr.shape = (7895, 32000, 1)\n",
      "y_tr.shape = (7895, 10)\n",
      "x_te.shape = (837, 32000, 1)\n",
      "y_te.shape = (837, 10)\n",
      "Train on 7105 samples, validate on 790 samples\n",
      "Epoch 1/10\n",
      "7105/7105 [==============================] - 510s 72ms/step - loss: 1.5809 - accuracy: 0.4552 - val_loss: 2.3209 - val_accuracy: 0.1127\n",
      "Epoch 2/10\n",
      "7105/7105 [==============================] - 513s 72ms/step - loss: 1.3257 - accuracy: 0.5512 - val_loss: 2.5782 - val_accuracy: 0.1101\n",
      "Epoch 3/10\n",
      "7105/7105 [==============================] - 514s 72ms/step - loss: 1.2404 - accuracy: 0.5859 - val_loss: 2.4372 - val_accuracy: 0.1646\n",
      "Epoch 4/10\n",
      "7105/7105 [==============================] - 521s 73ms/step - loss: 1.1949 - accuracy: 0.5975 - val_loss: 1.9232 - val_accuracy: 0.3354\n",
      "Epoch 5/10\n",
      "7105/7105 [==============================] - 522s 73ms/step - loss: 1.1235 - accuracy: 0.6296 - val_loss: 1.6545 - val_accuracy: 0.4418\n",
      "Epoch 6/10\n",
      "7105/7105 [==============================] - 536s 76ms/step - loss: 1.0847 - accuracy: 0.6539 - val_loss: 1.3658 - val_accuracy: 0.5367\n",
      "Epoch 7/10\n",
      "7105/7105 [==============================] - 525s 74ms/step - loss: 1.0502 - accuracy: 0.6645 - val_loss: 1.2525 - val_accuracy: 0.5886\n",
      "Epoch 8/10\n",
      "7105/7105 [==============================] - 636s 89ms/step - loss: 1.0256 - accuracy: 0.6709 - val_loss: 1.4466 - val_accuracy: 0.5228\n",
      "Epoch 9/10\n",
      "7105/7105 [==============================] - 611s 86ms/step - loss: 1.0025 - accuracy: 0.6781 - val_loss: 1.1745 - val_accuracy: 0.6354\n",
      "Epoch 10/10\n",
      "7105/7105 [==============================] - 513s 72ms/step - loss: 0.9769 - accuracy: 0.6884 - val_loss: 1.3716 - val_accuracy: 0.5278\n",
      "Train on 7105 samples, validate on 790 samples\n",
      "Epoch 1/10\n",
      "7105/7105 [==============================] - 507s 71ms/step - loss: 0.9510 - accuracy: 0.7033 - val_loss: 1.1445 - val_accuracy: 0.6101\n",
      "Epoch 2/10\n",
      "7105/7105 [==============================] - 512s 72ms/step - loss: 0.9357 - accuracy: 0.7022 - val_loss: 1.0261 - val_accuracy: 0.6582\n",
      "Epoch 3/10\n",
      "7105/7105 [==============================] - 521s 73ms/step - loss: 0.9192 - accuracy: 0.7088 - val_loss: 1.1281 - val_accuracy: 0.6101\n",
      "Epoch 4/10\n",
      "7105/7105 [==============================] - 573s 81ms/step - loss: 0.9062 - accuracy: 0.7139 - val_loss: 1.3567 - val_accuracy: 0.5367\n",
      "Epoch 5/10\n",
      "7105/7105 [==============================] - 642s 90ms/step - loss: 0.8915 - accuracy: 0.7202 - val_loss: 0.9680 - val_accuracy: 0.6797\n",
      "Epoch 6/10\n",
      "7105/7105 [==============================] - 599s 84ms/step - loss: 0.8591 - accuracy: 0.7329 - val_loss: 1.0213 - val_accuracy: 0.6582\n",
      "Epoch 7/10\n",
      "7105/7105 [==============================] - 515s 72ms/step - loss: 0.8674 - accuracy: 0.7261 - val_loss: 1.1282 - val_accuracy: 0.6380\n",
      "Epoch 8/10\n",
      "7105/7105 [==============================] - 513s 72ms/step - loss: 0.8422 - accuracy: 0.7444 - val_loss: 0.9638 - val_accuracy: 0.6924\n",
      "Epoch 9/10\n",
      "7105/7105 [==============================] - 522s 73ms/step - loss: 0.8533 - accuracy: 0.7309 - val_loss: 1.1994 - val_accuracy: 0.5810\n",
      "Epoch 10/10\n",
      "7105/7105 [==============================] - 514s 72ms/step - loss: 0.8361 - accuracy: 0.7382 - val_loss: 0.9213 - val_accuracy: 0.6924\n",
      "Train on 7105 samples, validate on 790 samples\n",
      "Epoch 1/10\n",
      "7105/7105 [==============================] - 524s 74ms/step - loss: 0.8210 - accuracy: 0.7462 - val_loss: 1.2029 - val_accuracy: 0.5873\n",
      "Epoch 2/10\n",
      "7105/7105 [==============================] - 517s 73ms/step - loss: 0.8148 - accuracy: 0.7416 - val_loss: 1.0406 - val_accuracy: 0.6696\n",
      "Epoch 3/10\n",
      "7105/7105 [==============================] - 551s 77ms/step - loss: 0.8038 - accuracy: 0.7541 - val_loss: 1.2316 - val_accuracy: 0.5835\n",
      "Epoch 4/10\n",
      "7105/7105 [==============================] - 576s 81ms/step - loss: 0.7883 - accuracy: 0.7534 - val_loss: 1.0781 - val_accuracy: 0.6380\n",
      "Epoch 5/10\n",
      "7105/7105 [==============================] - 549s 77ms/step - loss: 0.7728 - accuracy: 0.7626 - val_loss: 1.1589 - val_accuracy: 0.6241\n",
      "Epoch 6/10\n",
      "7105/7105 [==============================] - 510s 72ms/step - loss: 0.7786 - accuracy: 0.7551 - val_loss: 1.0825 - val_accuracy: 0.6544\n",
      "Epoch 7/10\n",
      "7105/7105 [==============================] - 511s 72ms/step - loss: 0.7765 - accuracy: 0.7640 - val_loss: 0.9993 - val_accuracy: 0.6671\n",
      "Epoch 8/10\n",
      "7105/7105 [==============================] - 509s 72ms/step - loss: 0.7544 - accuracy: 0.7661 - val_loss: 0.8411 - val_accuracy: 0.7291\n",
      "Epoch 9/10\n",
      "7105/7105 [==============================] - 500s 70ms/step - loss: 0.7511 - accuracy: 0.7673 - val_loss: 1.1068 - val_accuracy: 0.6076\n",
      "Epoch 10/10\n",
      "7105/7105 [==============================] - 497s 70ms/step - loss: 0.7473 - accuracy: 0.7692 - val_loss: 1.2209 - val_accuracy: 0.5886\n",
      "Train on 7105 samples, validate on 790 samples\n",
      "Epoch 1/10\n",
      "7105/7105 [==============================] - 501s 70ms/step - loss: 0.7431 - accuracy: 0.7747 - val_loss: 0.8772 - val_accuracy: 0.7013\n",
      "Epoch 2/10\n",
      "7105/7105 [==============================] - 521s 73ms/step - loss: 0.7316 - accuracy: 0.7758 - val_loss: 1.2517 - val_accuracy: 0.6253\n",
      "Epoch 3/10\n",
      "2432/7105 [=========>....................] - ETA: 5:38 - loss: 0.7177 - accuracy: 0.7755"
     ]
    }
   ],
   "source": [
    "\n",
    "model_names = ['m3', 'm5', 'm11', 'm18', 'm34']\n",
    "for i in model_names:\n",
    "    model_name = i\n",
    "    args = sys.argv\n",
    "    if len(args) == 2:\n",
    "        model_name = args[1].lower()\n",
    "    print('Model selected:', model_name)\n",
    "    file_logger = FileLogger('out_{}.tsv'.format(model_name), ['step', 'train_loss', 'test_loss',\n",
    "                                                               'train_acc', 'test_acc'])\n",
    "\n",
    "    num_classes = 10\n",
    "    if model_name == 'm3':\n",
    "        model = m3(num_classes=num_classes)\n",
    "    elif model_name == 'm5':\n",
    "        model = m5(num_classes=num_classes)\n",
    "    elif model_name == 'm11':\n",
    "        model = m11(num_classes=num_classes)\n",
    "    elif model_name == 'm18':\n",
    "        model = m18(num_classes=num_classes)\n",
    "    elif model_name == 'm34':\n",
    "        model = resnet_34(num_classes=num_classes)\n",
    "\n",
    "    model.compile(optimizer='adam',\n",
    "                  loss='categorical_crossentropy',\n",
    "                  metrics=['accuracy'])\n",
    "    print(model.summary())\n",
    "\n",
    "    data_reader = DataReader()\n",
    "    x_tr, y_tr = data_reader.get_all_training_data()\n",
    "    y_tr = to_categorical(y_tr, num_classes=num_classes)\n",
    "    x_te, y_te = data_reader.get_all_testing_data()\n",
    "    y_te = to_categorical(y_te, num_classes=num_classes)\n",
    "\n",
    "    print('x_tr.shape =', x_tr.shape)\n",
    "    print('y_tr.shape =', y_tr.shape)\n",
    "    print('x_te.shape =', x_te.shape)\n",
    "    print('y_te.shape =', y_te.shape)\n",
    "\n",
    "    # Reduce the learning rate by half if the accuracy does not increase after 10 epochs\n",
    "    reduce_lr = ReduceLROnPlateau(monitor='val_accuracy', factor=0.5, patience=10, min_lr=0.0001, verbose=1)\n",
    "    metrics_history = MetricsHistory()\n",
    "    batch_size = 128\n",
    "    n_split = 10\n",
    "    test_scores = []\n",
    "\n",
    "    # Cross Validation for the training\n",
    "    for train_index, val_index in KFold(n_split).split(x_tr):\n",
    "        x_train, x_val = x_tr[train_index], x_tr[val_index]\n",
    "        y_train, y_val = y_tr[train_index], y_tr[val_index]\n",
    "        model.fit(x=x_train,\n",
    "                  y=y_train,\n",
    "                  batch_size=batch_size,\n",
    "                  epochs=10,\n",
    "                  verbose=1,\n",
    "                  shuffle=True,\n",
    "                  validation_data=(x_val, y_val),\n",
    "                  callbacks=[metrics_history, reduce_lr])\n",
    "        scores = model.evaluate(x_te, y_te, verbose=0)\n",
    "        test_scores.append(scores[1] * 100)\n",
    "    print(\"Final Accuracy %.2f%% (+/- %.2f%%)\" % (numpy.mean(test_scores), numpy.std(test_scores)))\n",
    "\n",
    "    file_logger.close() "
   ]
  },
  {
   "cell_type": "code",
   "execution_count": 0,
   "metadata": {
    "colab": {},
    "colab_type": "code",
    "id": "fL6tFXnoa-ov",
    "outputId": "d3333d25-e1c5-4152-e73e-f9d5fe7ded91"
   },
   "outputs": [
    {
     "data": {
      "text/plain": [
       "'/home/michael/Documents/Programming#/Assignments#'"
      ]
     },
     "execution_count": 32,
     "metadata": {
      "tags": []
     },
     "output_type": "execute_result"
    }
   ],
   "source": [
    "pwd"
   ]
  },
  {
   "cell_type": "code",
   "execution_count": 0,
   "metadata": {
    "colab": {},
    "colab_type": "code",
    "id": "C0joNtHEa-o7",
    "outputId": "304ca6f0-14ae-4199-8430-2623b9d18f1c"
   },
   "outputs": [
    {
     "data": {
      "text/html": [
       "<div>\n",
       "<style scoped>\n",
       "    .dataframe tbody tr th:only-of-type {\n",
       "        vertical-align: middle;\n",
       "    }\n",
       "\n",
       "    .dataframe tbody tr th {\n",
       "        vertical-align: top;\n",
       "    }\n",
       "\n",
       "    .dataframe thead th {\n",
       "        text-align: right;\n",
       "    }\n",
       "</style>\n",
       "<table border=\"1\" class=\"dataframe\">\n",
       "  <thead>\n",
       "    <tr style=\"text-align: right;\">\n",
       "      <th></th>\n",
       "      <th>step</th>\n",
       "      <th>train_loss</th>\n",
       "      <th>test_loss</th>\n",
       "      <th>train_acc</th>\n",
       "      <th>test_acc</th>\n",
       "    </tr>\n",
       "  </thead>\n",
       "  <tbody>\n",
       "    <tr>\n",
       "      <th>0</th>\n",
       "      <td>0</td>\n",
       "      <td>1.541343</td>\n",
       "      <td>2.390405</td>\n",
       "      <td>0.473211</td>\n",
       "      <td>0.118280</td>\n",
       "    </tr>\n",
       "    <tr>\n",
       "      <th>1</th>\n",
       "      <td>1</td>\n",
       "      <td>1.306810</td>\n",
       "      <td>2.663871</td>\n",
       "      <td>0.559721</td>\n",
       "      <td>0.133811</td>\n",
       "    </tr>\n",
       "    <tr>\n",
       "      <th>2</th>\n",
       "      <td>2</td>\n",
       "      <td>1.212127</td>\n",
       "      <td>2.484400</td>\n",
       "      <td>0.600887</td>\n",
       "      <td>0.238949</td>\n",
       "    </tr>\n",
       "    <tr>\n",
       "      <th>3</th>\n",
       "      <td>3</td>\n",
       "      <td>1.151480</td>\n",
       "      <td>2.022581</td>\n",
       "      <td>0.625332</td>\n",
       "      <td>0.290323</td>\n",
       "    </tr>\n",
       "    <tr>\n",
       "      <th>4</th>\n",
       "      <td>4</td>\n",
       "      <td>1.115919</td>\n",
       "      <td>1.857373</td>\n",
       "      <td>0.633692</td>\n",
       "      <td>0.397849</td>\n",
       "    </tr>\n",
       "  </tbody>\n",
       "</table>\n",
       "</div>"
      ],
      "text/plain": [
       "   step  train_loss  test_loss  train_acc  test_acc\n",
       "0     0    1.541343   2.390405   0.473211  0.118280\n",
       "1     1    1.306810   2.663871   0.559721  0.133811\n",
       "2     2    1.212127   2.484400   0.600887  0.238949\n",
       "3     3    1.151480   2.022581   0.625332  0.290323\n",
       "4     4    1.115919   1.857373   0.633692  0.397849"
      ]
     },
     "execution_count": 40,
     "metadata": {
      "tags": []
     },
     "output_type": "execute_result"
    }
   ],
   "source": [
    "import pandas as pd\n",
    "data_m3 = pd.read_csv('out_m31.csv')\n",
    "data_m3.head()"
   ]
  },
  {
   "cell_type": "code",
   "execution_count": 0,
   "metadata": {
    "colab": {},
    "colab_type": "code",
    "id": "QbDeh0d5a-pA",
    "outputId": "8ef1a279-a075-4043-e301-3b671fd60776"
   },
   "outputs": [
    {
     "data": {
      "text/plain": [
       "[<matplotlib.lines.Line2D at 0x7f721b10ca58>]"
      ]
     },
     "execution_count": 47,
     "metadata": {
      "tags": []
     },
     "output_type": "execute_result"
    },
    {
     "data": {
      "image/png": "[encoded data removed]",
      "text/plain": [
       "<Figure size 720x432 with 2 Axes>"
      ]
     },
     "metadata": {
      "needs_background": "light",
      "tags": []
     },
     "output_type": "display_data"
    }
   ],
   "source": [
    "import matplotlib.pyplot as plt\n",
    "%matplotlib inline\n",
    "\n",
    "# Creates two subplots and unpacks the output array immediately\n",
    "f, (ax1, ax2) = plt.subplots(1, 2, sharey=False, figsize= (10, 6))\n",
    "ax1.plot(data_m3.train_loss)\n",
    "ax1.plot(data_m3.test_loss)\n",
    "ax1.set_title('Train and Test Losses')\n",
    "ax2.set_title('Train and Test Accuracy')\n",
    "ax2.plot(data_m3.train_acc)\n",
    "ax2.plot(data_m3.test_acc)"
   ]
  },
  {
   "cell_type": "code",
   "execution_count": 0,
   "metadata": {
    "colab": {},
    "colab_type": "code",
    "id": "ObIINsGNa-pH"
   },
   "outputs": [],
   "source": [
    "audio = torch.zeros(1,32000)\n",
    "m3(audio.unsqueeze(0)).shape"
   ]
  },
  {
   "cell_type": "code",
   "execution_count": 0,
   "metadata": {
    "colab": {},
    "colab_type": "code",
    "id": "cH8tNeaoa-pa"
   },
   "outputs": [],
   "source": []
  }
 ],
 "metadata": {
  "accelerator": "GPU",
  "colab": {
   "collapsed_sections": [],
   "name": "audio_classifier_task-Tensorflow.ipynb",
   "provenance": [],
   "toc_visible": true
  },
  "kernelspec": {
   "display_name": "Python 3",
   "language": "python",
   "name": "python3"
  },
  "language_info": {
   "codemirror_mode": {
    "name": "ipython",
    "version": 3
   },
   "file_extension": ".py",
   "mimetype": "text/x-python",
   "name": "python",
   "nbconvert_exporter": "python",
   "pygments_lexer": "ipython3",
   "version": "3.7.3"
  }
 },
 "nbformat": 4,
 "nbformat_minor": 1
}
