{
 "cells": [
  {
   "cell_type": "markdown",
   "metadata": {},
   "source": [
    "# PROJECT 2: Phishing Detector with Logistic Regression"
   ]
  },
  {
   "cell_type": "code",
   "execution_count": null,
   "metadata": {},
   "outputs": [],
   "source": [
    "#CellStrat - Load the phishing website dataset (this dataset has 11000+ data samples). Each sample has 30 website\n",
    "#parameters and then a class label identifying it as a phishing website or not (1 or -1).\n",
    "\n",
    "#The task is to train a KNN and Logistic Regression classifier which can detect phishing websites.\n",
    "\n",
    "#Using 70% data for training and 30% for testing.\n",
    "\n",
    "#Train the model using training data and then use it to predict the test data.\n",
    "\n",
    "#Then print the count of misclassified samples in the test data prediction as well as the accuracy score of this prediction."
   ]
  },
  {
   "cell_type": "markdown",
   "metadata": {},
   "source": [
    "### Import modules"
   ]
  },
  {
   "cell_type": "code",
   "execution_count": 1,
   "metadata": {},
   "outputs": [],
   "source": [
    "from sklearn import datasets\n",
    "import numpy as np\n",
    "from sklearn.model_selection import train_test_split\n",
    "from sklearn.preprocessing import StandardScaler\n",
    "from sklearn.neighbors import KNeighborsClassifier\n",
    "from sklearn.metrics import accuracy_score"
   ]
  },
  {
   "cell_type": "markdown",
   "metadata": {},
   "source": [
    "### Define Input and Output"
   ]
  },
  {
   "cell_type": "code",
   "execution_count": 2,
   "metadata": {},
   "outputs": [],
   "source": [
    "phishing = np.loadtxt('phishing.txt', delimiter=',')\n",
    "\n",
    "#attribute having_IP_Address  { -1,1 }\n",
    "#attribute URL_Length   { 1,0,-1 }\n",
    "#attribute Shortining_Service { 1,-1 }\n",
    "#attribute having_At_Symbol   { 1,-1 }\n",
    "#attribute double_slash_redirecting { -1,1 }\n",
    "#attribute Prefix_Suffix  { -1,1 }\n",
    "#attribute having_Sub_Domain  { -1,0,1 }\n",
    "#attribute SSLfinal_State  { -1,1,0 }\n",
    "#attribute Domain_registeration_length { -1,1 }\n",
    "#attribute Favicon { 1,-1 }\n",
    "#attribute port { 1,-1 }\n",
    "#attribute HTTPS_token { -1,1 }\n",
    "#attribute Request_URL  { 1,-1 }\n",
    "#attribute URL_of_Anchor { -1,0,1 }\n",
    "#attribute Links_in_tags { 1,-1,0 }\n",
    "#attribute SFH  { -1,1,0 }\n",
    "#attribute Submitting_to_email { -1,1 }\n",
    "#attribute Abnormal_URL { -1,1 }\n",
    "#attribute Redirect  { 0,1 }\n",
    "#attribute on_mouseover  { 1,-1 }\n",
    "#attribute RightClick  { 1,-1 }\n",
    "#attribute popUpWidnow  { 1,-1 }\n",
    "#attribute Iframe { 1,-1 }\n",
    "#attribute age_of_domain  { -1,1 }\n",
    "#attribute DNSRecord   { -1,1 }\n",
    "#attribute web_traffic  { -1,0,1 }\n",
    "#attribute Page_Rank { -1,1 }\n",
    "#attribute Google_Index { 1,-1 }\n",
    "#attribute Links_pointing_to_page { 1,0,-1 }\n",
    "#attribute Statistical_report { -1,1 }\n",
    "#attribute Result  { -1,1 }"
   ]
  },
  {
   "cell_type": "code",
   "execution_count": 3,
   "metadata": {},
   "outputs": [
    {
     "data": {
      "text/plain": [
       "(11055L, 31L)"
      ]
     },
     "execution_count": 3,
     "metadata": {},
     "output_type": "execute_result"
    }
   ],
   "source": [
    "phishing.shape"
   ]
  },
  {
   "cell_type": "markdown",
   "metadata": {},
   "source": [
    "### Create X and Y data"
   ]
  },
  {
   "cell_type": "code",
   "execution_count": 4,
   "metadata": {},
   "outputs": [
    {
     "name": "stdout",
     "output_type": "stream",
     "text": [
      "('Class labels:', array([-1.,  1.]))\n"
     ]
    }
   ],
   "source": [
    "#X = phishing[:, [1, 5]]\n",
    "X = phishing[:, 0:30]\n",
    "y = phishing[:,30:31]\n",
    "print('Class labels:', np.unique(y))\n",
    "\n",
    "\n",
    "# Splitting data into 70% training and 30% test data:\n",
    "X_train, X_test, y_train, y_test = train_test_split(X,y, test_size=0.3,\n",
    "                                                    random_state=1, stratify=y)\n",
    "y_train = np.array(y_train.ravel())\n",
    "y_test = np.array(y_test.ravel())\n"
   ]
  },
  {
   "cell_type": "markdown",
   "metadata": {},
   "source": [
    "### Train and Evaluate Data"
   ]
  },
  {
   "cell_type": "code",
   "execution_count": 5,
   "metadata": {},
   "outputs": [
    {
     "name": "stdout",
     "output_type": "stream",
     "text": [
      "Misclassified samples: 211\n",
      "Accuracy: 0.94\n",
      "Accuracy: 0.94\n"
     ]
    }
   ],
   "source": [
    "#from sklearn.linear_model import LogisticRegression\n",
    "\n",
    "knn = KNeighborsClassifier(n_neighbors=5, p=2, metric='minkowski')\n",
    "knn.fit(X_train, y_train)\n",
    "y_pred = knn.predict(X_test)\n",
    "\n",
    "print('Misclassified samples: %d' % (y_test != y_pred).sum())\n",
    "print('Accuracy: %.2f' % accuracy_score(y_test, y_pred))\n",
    "print('Accuracy: %.2f' % knn.score(X_test, y_test))"
   ]
  },
  {
   "cell_type": "code",
   "execution_count": null,
   "metadata": {},
   "outputs": [],
   "source": []
  },
  {
   "cell_type": "markdown",
   "metadata": {},
   "source": [
    "# Exercise 1"
   ]
  },
  {
   "cell_type": "code",
   "execution_count": null,
   "metadata": {},
   "outputs": [],
   "source": [
    "#Build a phishing website classifier using Logistic Regression with “C” parameter = 100.\n",
    "#Use 70% of data as training data and remaining 30% as test data.\n",
    "#Print count of misclassified samples in the test data prediction as\n",
    "#well as the accuracy score of the model."
   ]
  },
  {
   "cell_type": "code",
   "execution_count": 6,
   "metadata": {},
   "outputs": [],
   "source": [
    "# Logistic Regression import and build\n",
    "\n",
    "from sklearn.linear_model import LogisticRegression\n",
    "lr = LogisticRegression(C = 100)"
   ]
  },
  {
   "cell_type": "code",
   "execution_count": 7,
   "metadata": {},
   "outputs": [
    {
     "name": "stdout",
     "output_type": "stream",
     "text": [
      "('Class labels:', array([-1.,  1.]))\n"
     ]
    }
   ],
   "source": [
    "#Already done above\n",
    "#Splitting the dataset:\n",
    "\n",
    "X = phishing[:, 0:30]\n",
    "y = phishing[:,30:31]\n",
    "print('Class labels:', np.unique(y))\n",
    "\n",
    "# Splitting data into 70% training and 30% test data:\n",
    "X_train, X_test, y_train, y_test = train_test_split(X,y, test_size=0.3,\n",
    "                                                    random_state=1, stratify=y)\n",
    "y_train = np.array(y_train.ravel())\n",
    "y_test = np.array(y_test.ravel())"
   ]
  },
  {
   "cell_type": "code",
   "execution_count": 9,
   "metadata": {},
   "outputs": [
    {
     "name": "stdout",
     "output_type": "stream",
     "text": [
      "Misclassified samples: 249\n",
      "Accuracy of the test with predicted: 0.92\n",
      "Accuracy Score of the model on the test set: 0.92\n"
     ]
    }
   ],
   "source": [
    "# Logistic Regression fit and prediction\n",
    "lr.fit(X_train, y_train)\n",
    "y_pred1 = lr.predict(X_test)\n",
    "\n",
    "# Misclassification and accuracy score\n",
    "print('Misclassified samples: %d' % (y_test != y_pred1).sum())\n",
    "print('Accuracy of the test with predicted: %.2f' % accuracy_score(y_test, y_pred1))\n",
    "print('Accuracy Score of the model on the test set: %.2f' % lr.score(X_test, y_test))"
   ]
  },
  {
   "cell_type": "code",
   "execution_count": null,
   "metadata": {},
   "outputs": [],
   "source": [
    "# INFERENCE: The Logistic Regression model with 'C' parameter = 100 doesn't perform as good as KNN on the test set and predictions\n",
    "# We can find out how this matches with the train set."
   ]
  },
  {
   "cell_type": "code",
   "execution_count": 10,
   "metadata": {},
   "outputs": [
    {
     "name": "stdout",
     "output_type": "stream",
     "text": [
      "Accuracy Score of the model on the train set(LogitR): 0.93\n",
      "Accuracy Score of the model on the train set(KNN): 0.96\n"
     ]
    }
   ],
   "source": [
    "print('Accuracy Score of the model on the train set(LogitR): %.2f' % lr.score(X_train, y_train))\n",
    "print('Accuracy Score of the model on the train set(KNN): %.2f' % knn.score(X_train, y_train))"
   ]
  },
  {
   "cell_type": "code",
   "execution_count": null,
   "metadata": {},
   "outputs": [],
   "source": []
  },
  {
   "cell_type": "markdown",
   "metadata": {},
   "source": [
    "# Exercise 2"
   ]
  },
  {
   "cell_type": "code",
   "execution_count": null,
   "metadata": {},
   "outputs": [],
   "source": [
    "#Train with only two input parameters - parameter Prefix_Suffix and 13 URL_of_Anchor.\n",
    "#Check accuracy using the test data and compare the accuracy with the previous value.\n",
    "#Plot the test samples along with the decision boundary when trained with index 5 and index 13 parameters."
   ]
  },
  {
   "cell_type": "code",
   "execution_count": 11,
   "metadata": {},
   "outputs": [],
   "source": [
    "# Selecting the columns Prefix_Suffix and 13 URL_of_Anchor\n",
    "# Prefix_Suffix = Column 5\n",
    "# URL_of_Anchor = Column 13\n",
    "X = phishing[:, [5, 13]]"
   ]
  },
  {
   "cell_type": "code",
   "execution_count": 12,
   "metadata": {},
   "outputs": [
    {
     "data": {
      "text/plain": [
       "(11055L, 2L)"
      ]
     },
     "execution_count": 12,
     "metadata": {},
     "output_type": "execute_result"
    }
   ],
   "source": [
    "X.shape"
   ]
  },
  {
   "cell_type": "code",
   "execution_count": 15,
   "metadata": {},
   "outputs": [],
   "source": [
    "# Splitting the new X and y into 70% training and 30% test data:\n",
    "X_train, X_test, y_train, y_test = train_test_split(X,y, test_size=0.3,\n",
    "                                                    random_state=1, stratify=y)\n",
    "y_train = np.array(y_train.ravel())\n",
    "y_test = np.array(y_test.ravel())"
   ]
  },
  {
   "cell_type": "code",
   "execution_count": 16,
   "metadata": {},
   "outputs": [
    {
     "name": "stdout",
     "output_type": "stream",
     "text": [
      "Misclassified samples: 543\n",
      "Accuracy of the test with predicted: 0.84\n",
      "Accuracy Score of the model on the test set: 0.84\n"
     ]
    }
   ],
   "source": [
    "# Using Logistic Regression still using the parameter \"C\" = 100\n",
    "lr.fit(X_train, y_train)\n",
    "y_pred2 = lr.predict(X_test)\n",
    "\n",
    "print('Misclassified samples: %d' % (y_test != y_pred2).sum())\n",
    "print('Accuracy of the test with predicted: %.2f' % accuracy_score(y_test, y_pred2))\n",
    "print('Accuracy Score of the model on the test set: %.2f' % lr.score(X_test, y_test))"
   ]
  },
  {
   "cell_type": "code",
   "execution_count": null,
   "metadata": {},
   "outputs": [],
   "source": [
    "# Training with just the Prefix_Suffix and URL_of_Anchor shows a reduced accuracy though inversely shows that these 2 features\n",
    "# have high correlation with whether it is a phishing account or not a phishing account.\n",
    "# We can also see that Logistic Regression with just the 2 features misclassified 543 samples showing it definitely still needs\n",
    "# the rest of the data to properly identify the target."
   ]
  },
  {
   "cell_type": "code",
   "execution_count": 17,
   "metadata": {},
   "outputs": [],
   "source": [
    "#Import some libraries for plotting, the ListedColormap for color maps and the %matplotlib inline for inline plot printing\n",
    "import matplotlib\n",
    "import matplotlib.pyplot as plt\n",
    "import seaborn as sns\n",
    "from matplotlib.colors import ListedColormap\n",
    "%matplotlib inline"
   ]
  },
  {
   "cell_type": "code",
   "execution_count": 18,
   "metadata": {},
   "outputs": [],
   "source": [
    "# Scale the data to allow for stacking and avoid improper weightage on the LR formula\n",
    "from sklearn.preprocessing import StandardScaler\n",
    "sc = StandardScaler()\n",
    "sc.fit(X_train)\n",
    "X_train_std = sc.transform(X_train)\n",
    "X_test_std = sc.transform(X_test)"
   ]
  },
  {
   "cell_type": "code",
   "execution_count": 51,
   "metadata": {},
   "outputs": [],
   "source": [
    "#Create a decision regions function for plotting the decision regions \n",
    "def plot_decision_regions(X, y, classifier, test_idx=None, resolution = 0.02):\n",
    "    #Setup marker generation and color map\n",
    "    markers = (\"s\", \"x\", \"o,\", \"^\", \"v\")\n",
    "    colors = (\"red\", \"blue\", \"lightgreen\", \"gray\", \"cyan\")\n",
    "    cmap = ListedColormap(colors[:len(np.unique(y))])\n",
    "    \n",
    "    #Plot the decision surface\n",
    "    x1_min, x1_max = X[:, 0].min() - 1, X[:, 0].max() + 1\n",
    "    x2_min, x2_max = X[:, 1].min() - 1, X[:, 1].max() + 1\n",
    "    xx1, xx2 = np.meshgrid(np.arange(x1_min, x1_max, resolution),\n",
    "                          np.arange(x2_min, x2_max, resolution))\n",
    "    Z = classifier.predict(np.array([xx1.ravel(), xx2.ravel()]).T)\n",
    "    Z = Z.reshape(xx1.shape)\n",
    "    plt.contourf(xx1, xx2, Z, alpha = 0.3, cmap=cmap)\n",
    "    plt.xlim(xx1.min(), xx1.max())\n",
    "    plt.ylim(xx2.min(), xx2.max())\n",
    "    \n",
    "    for idx, cl in enumerate(np.unique(y)):\n",
    "        plt.scatter(x=X[y == cl, 0],\n",
    "                   y=X[y == cl, 1],\n",
    "                   alpha = 0.8,\n",
    "                   c = cmap(idx),\n",
    "                   marker=markers[idx],\n",
    "                   label=cl,\n",
    "                   edgecolor='black')\n",
    "        #Highlight test samples\n",
    "    if test_idx:\n",
    "        #plot all samples\n",
    "        X_test, y_test = X[test_idx, :], y[test_idx]\n",
    "        \n",
    "        plt.scatter(X_test[:, 0],\n",
    "                   X_test[:, 1],\n",
    "                   c = '',\n",
    "                   edgecolor='black',\n",
    "                   alpha = 1.0,\n",
    "                   linewidth=1,\n",
    "                   marker = 'o',\n",
    "                   s=100,\n",
    "                   label='test set')"
   ]
  },
  {
   "cell_type": "code",
   "execution_count": 21,
   "metadata": {},
   "outputs": [],
   "source": [
    "# Stack up the sets \n",
    "X_combined_std = np.vstack((X_train_std, X_test_std))\n",
    "y_combined = np.hstack((y_train, y_test))"
   ]
  },
  {
   "cell_type": "code",
   "execution_count": 38,
   "metadata": {},
   "outputs": [
    {
     "data": {
      "text/plain": [
       "LogisticRegression(C=100.0, class_weight=None, dual=False, fit_intercept=True,\n",
       "          intercept_scaling=1, max_iter=100, multi_class='ovr', n_jobs=1,\n",
       "          penalty='l2', random_state=1, solver='liblinear', tol=0.0001,\n",
       "          verbose=0, warm_start=False)"
      ]
     },
     "execution_count": 38,
     "metadata": {},
     "output_type": "execute_result"
    }
   ],
   "source": [
    "#Training the logistic regression model with scikit_learn\n",
    "lr = LogisticRegression(C=100.0, random_state = 1)\n",
    "lr.fit(X_train_std, y_train)"
   ]
  },
  {
   "cell_type": "code",
   "execution_count": 52,
   "metadata": {},
   "outputs": [
    {
     "data": {
      "image/png": "[encoded data removed]",
      "text/plain": [
       "<matplotlib.figure.Figure at 0x164c7940>"
      ]
     },
     "metadata": {},
     "output_type": "display_data"
    }
   ],
   "source": [
    "# Plotting the boundaries\n",
    "plot_decision_regions(X_combined_std, y_combined, classifier = lr, test_idx=range(105, 150))\n",
    "plt.title('Plot of the test samples with the decision boundary when trained with index 5 and index 13 parameters.')\n",
    "plt.xlabel('Prefix_Suffix')\n",
    "plt.ylabel('URL_of_Anchor')\n",
    "plt.legend(loc='upper left')\n",
    "#plt.savefig('phishing_image_region.png', dpi = 300)\n",
    "plt.show()"
   ]
  }
 ],
 "metadata": {
  "anaconda-cloud": {},
  "kernelspec": {
   "display_name": "Python [Anaconda2]",
   "language": "python",
   "name": "Python [Anaconda2]"
  },
  "language_info": {
   "codemirror_mode": {
    "name": "ipython",
    "version": 2
   },
   "file_extension": ".py",
   "mimetype": "text/x-python",
   "name": "python",
   "nbconvert_exporter": "python",
   "pygments_lexer": "ipython2",
   "version": "2.7.12"
  }
 },
 "nbformat": 4,
 "nbformat_minor": 2
}
